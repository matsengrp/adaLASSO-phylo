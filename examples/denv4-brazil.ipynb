{
 "cells": [
  {
   "cell_type": "markdown",
   "metadata": {},
   "source": [
    "# Experiments on the Brazil subset from Denv4 data set\n",
    "\n",
    "In what follows, we will compare four methods for non-bifurcating phylogenetic inference: \n",
    "\n",
    "* `Maximum Likelihood (ML) + bootstrap`\n",
    "* `reversible jump MCMC (rjMCMC)`\n",
    "* `ML + bootstrap + threshold`\n",
    "* `ML + bootstrap + multistep adaptive LASSO` \n",
    "\n",
    "on the Brazil subset of the Denv4 data set.\n",
    "\n",
    "__Note__: please change the path to the outputs of different methods accordingly when read in the results. "
   ]
  },
  {
   "cell_type": "code",
   "execution_count": 1,
   "metadata": {
    "collapsed": true
   },
   "outputs": [],
   "source": [
    "%load_ext autoreload\n",
    "%autoreload 2\n",
    "\n",
    "%matplotlib inline\n",
    "%gui tk\n",
    "\n",
    "import sys\n",
    "sys.path.append('../')\n",
    "import numpy as np\n",
    "from time import clock\n",
    "import matplotlib.pyplot as plt\n",
    "from copy import deepcopy\n",
    "import pandas as pd\n",
    "import re\n",
    "import commands"
   ]
  },
  {
   "cell_type": "code",
   "execution_count": 3,
   "metadata": {},
   "outputs": [],
   "source": [
    "import phyloinfer as pinf\n",
    "from model import PHY\n",
    "from optimizer import adaLasso, raxml\n",
    "from utils import readTree, saveTree, treePosterior, addLabel, maptaxonname, Collapse, splitSupport\n",
    "\n",
    "from p4 import *\n",
    "import dendropy\n",
    "from Bio import Phylo\n",
    "from collections import defaultdict\n",
    "from cStringIO import StringIO"
   ]
  },
  {
   "cell_type": "markdown",
   "metadata": {},
   "source": [
    "## Load the data and preprocess MrBayes output"
   ]
  },
  {
   "cell_type": "code",
   "execution_count": 29,
   "metadata": {
    "collapsed": true
   },
   "outputs": [],
   "source": [
    "denv4_brazil_seq = '../data/Dengue/dengue_denv4_aligned_brazil.fasta'\n",
    "\n",
    "# preprocess MCMC sampels from MrBayes\n",
    "tree_list_mcmc = dendropy.TreeList.get(path='../data/Dengue/dengue_denv4_aligned_brazil.nexus.t',\n",
    "                                       schema='nexus', rooting='force-unrooted')\n",
    "_, denv4_brazil_taxa = pinf.data.loadData(denv4_brazil_seq, data_type='fasta')\n",
    "\n",
    "\n",
    "# transform to p4 compatible format\n",
    "addLabel(tree_list_mcmc)\n",
    "taxon_names = tree_list_mcmc.taxon_namespace\n",
    "maptaxonname(taxon_names, denv4_brazil_taxa)\n",
    "\n",
    "tree_list_mcmc.write(path='../data/Dengue/dengue_denv4_aligned_brazil.nexus.t.transformed',\n",
    "                     schema='nexus', suppress_taxa_blocks=True, translate_tree_taxa=True)"
   ]
  },
  {
   "cell_type": "markdown",
   "metadata": {},
   "source": [
    "## Run rjMCMC in p4"
   ]
  },
  {
   "cell_type": "code",
   "execution_count": 7,
   "metadata": {
    "collapsed": true
   },
   "outputs": [],
   "source": [
    "# load data\n",
    "read(denv4_brazil_seq)\n",
    "denv4_brazil_data = Data()\n",
    "denv4_brazil_taxa = denv4_brazil_data.taxNames"
   ]
  },
  {
   "cell_type": "code",
   "execution_count": 8,
   "metadata": {
    "collapsed": true
   },
   "outputs": [],
   "source": [
    "# step up rjmcmc\n",
    "init_tree = func.randomTree(taxNames=denv4_brazil_taxa)\n",
    "init_tree.data = denv4_brazil_data\n",
    "\n",
    "init_tree.newComp(free=0, spec='equal')\n",
    "init_tree.newRMatrix(free=0, spec='ones')\n",
    "init_tree.setNGammaCat(nGammaCat=1)\n",
    "init_tree.setPInvar(free=0, val=0.0)"
   ]
  },
  {
   "cell_type": "code",
   "execution_count": null,
   "metadata": {
    "collapsed": true
   },
   "outputs": [],
   "source": [
    "# run reversible jump mcmc\n",
    "m = Mcmc(init_tree, nChains=4, runNum=0, sampleInterval=1000, checkPointInterval=2500000)\n",
    "m.prob.polytomy = 1.0\n",
    "m.prob.brLen = 0.1\n",
    "m.prob.local = 0.1\n",
    "m.prob.eTBR = 0.1\n",
    "m.tunings.chainTemp = 0.0\n",
    "\n",
    "m.run(10000000)"
   ]
  },
  {
   "cell_type": "code",
   "execution_count": 30,
   "metadata": {
    "collapsed": true
   },
   "outputs": [],
   "source": [
    "# get the mcmc consensus tree\n",
    "tp = TreePartitions('../data/Dengue/dengue_denv4_aligned_brazil.nexus.t.transformed', skip=2000)\n",
    "majority_tree = tp.consensus()\n",
    "\n",
    "node_idx = 0\n",
    "for n in majority_tree.iterInternalsNoRoot():\n",
    "    node_idx += 1\n",
    "    n.name = \"({}):{:.0f}\".format(node_idx, n.br.support*100)\n",
    "\n",
    "# print the mcmc consensus tree\n",
    "majority_tree.eps('../results/consensus_mcmc.eps', width=800, putInternalNodeNamesOnBranches=1)"
   ]
  },
  {
   "cell_type": "code",
   "execution_count": 31,
   "metadata": {
    "collapsed": true
   },
   "outputs": [],
   "source": [
    "# make a dictionary of a split key on the mcmc consensus tree.\n",
    "mcmc_consensus_dict = {}\n",
    "majority_tree.makeSplitKeys()\n",
    "for n in majority_tree.iterInternalsNoRoot():\n",
    "    mcmc_consensus_dict[n.br.splitKey] = n"
   ]
  },
  {
   "cell_type": "code",
   "execution_count": 32,
   "metadata": {},
   "outputs": [],
   "source": [
    "# aggregate result into a split table.\n",
    "splitTable = np.array([[int(re.findall('\\d+',n.name)[0]), int('{:.0f}'.format(n.br.support*100))] for splitKey, n in sorted(mcmc_consensus_dict.items(),key=lambda x:x[0])])\n",
    "splitTable = splitTable[splitTable[:,0].argsort()]\n",
    "\n",
    "# note: please change the path to match your rjmcmc outputs or vice versa\n",
    "read('../results/mcmc_trees_0.nex')\n",
    "rjmcmc_split_dict = splitSupport(var.trees, mcmc_consensus_dict, denv4_brazil_taxa, skip=0.2)\n",
    "rjmcmc_split = np.array([[int(re.findall('\\d+',mcmc_consensus_dict[key].name)[0]), percent] for key, percent in sorted(rjmcmc_split_dict.items(), key=lambda x:x[0])])\n",
    "rjmcmc_split = rjmcmc_split[rjmcmc_split[:,0].argsort()][:,1]\n",
    "rjmcmc_split = rjmcmc_split.reshape((len(rjmcmc_split),1)) \n",
    "\n",
    "splitTable = np.concatenate((splitTable,rjmcmc_split), axis=1)"
   ]
  },
  {
   "cell_type": "markdown",
   "metadata": {},
   "source": [
    "## Run raxml for maximum likelihood bootstrapping"
   ]
  },
  {
   "cell_type": "code",
   "execution_count": null,
   "metadata": {
    "collapsed": true
   },
   "outputs": [],
   "source": [
    "# run raxml (take some time)\n",
    "clear = commands.getoutput('rm '+denv4_brazil_seq+'.raxml.*')\n",
    "raxml(sequences=denv4_brazil_seq, model=\"JC\", starting_tree=\"pars{10}\", bootstrap=True, bstrees=1000, log=True)"
   ]
  },
  {
   "cell_type": "code",
   "execution_count": 26,
   "metadata": {
    "collapsed": true
   },
   "outputs": [],
   "source": [
    "# transform to p4 compatible format.  \n",
    "tree_list = dendropy.TreeList.get(path='../data/Dengue/dengue_denv4_aligned_brazil.fasta.raxml.bootstraps', schema='newick', rooting=\"force-unrooted\")\n",
    "addLabel(tree_list)\n",
    "tree_list.write(path='../data/Dengue/dengue_denv4_aligned_brazil.fasta.raxml.bootstraps.nexus', schema='nexus', suppress_taxa_blocks=True, translate_tree_taxa=True, unquoted_underscores=True)"
   ]
  },
  {
   "cell_type": "code",
   "execution_count": 33,
   "metadata": {
    "collapsed": true
   },
   "outputs": [],
   "source": [
    "# read bootstrap trees into p4\n",
    "var.trees = []\n",
    "read('../data/Dengue/dengue_denv4_aligned_brazil.fasta.raxml.bootstraps.nexus')\n",
    "ml_bs_dict = splitSupport(var.trees, mcmc_consensus_dict, denv4_brazil_taxa, skip=0.0)\n",
    "ml_bs_split = np.array([[int(re.findall('\\d+',mcmc_consensus_dict[key].name)[0]), percent] for key, percent in sorted(ml_bs_dict.items(), key=lambda x:x[0])])\n",
    "ml_bs_split = ml_bs_split[ml_bs_split[:,0].argsort()][:,1]\n",
    "ml_bs_split = ml_bs_split.reshape((len(ml_bs_split),1))\n",
    "\n",
    "splitTable = np.concatenate((splitTable,ml_bs_split), axis=1)\n",
    "splitTable[:,[1,2,3]] = splitTable[:,[3,1,2]]"
   ]
  },
  {
   "cell_type": "markdown",
   "metadata": {},
   "source": [
    "## ML + bootstrap + threshold"
   ]
  },
  {
   "cell_type": "code",
   "execution_count": 13,
   "metadata": {
    "collapsed": true
   },
   "outputs": [],
   "source": [
    "thresholds = [1e-06, 5e-05, 1e-04]\n",
    "\n",
    "for threshold in thresholds:\n",
    "    ml_bs_threshold_dict = splitSupport(var.trees, mcmc_consensus_dict, denv4_brazil_taxa, collapse_threshold=threshold, skip=0.0)\n",
    "    ml_bs_threshold_split = np.array([[int(re.findall('\\d+',mcmc_consensus_dict[key].name)[0]), percent] for key, percent in sorted(ml_bs_threshold_dict.items(), key=lambda x:x[0])])\n",
    "    ml_bs_threshold_split = ml_bs_threshold_split[ml_bs_threshold_split[:,0].argsort()][:,1]\n",
    "    ml_bs_threshold_split = ml_bs_threshold_split.reshape((len(ml_bs_threshold_split),1))\n",
    "    \n",
    "    splitTable = np.concatenate((splitTable,ml_bs_threshold_split), axis=1)"
   ]
  },
  {
   "cell_type": "markdown",
   "metadata": {},
   "source": [
    "## ML + bootstrap + multistep adaptive LASSO"
   ]
  },
  {
   "cell_type": "code",
   "execution_count": 40,
   "metadata": {
    "collapsed": true
   },
   "outputs": [],
   "source": [
    "# set up the model\n",
    "pden = np.array([0.25, 0.25, 0.25, 0.25])\n",
    "D, U, U_inv, rate_matrix = pinf.rateM.decompJC()\n",
    "\n",
    "# load data\n",
    "denv4_brazil, _ = pinf.data.loadData(denv4_brazil_seq, 'fasta')\n",
    "model_denv4_brazil = PHY(pden, ('JC', 1.0), denv4_brazil)"
   ]
  },
  {
   "cell_type": "code",
   "execution_count": null,
   "metadata": {
    "collapsed": true
   },
   "outputs": [],
   "source": [
    "# run multistep adaptive LASSO\n",
    "\n",
    "# read bootstrap trees\n",
    "bs_trees = readTree('../data/Dengue/dengue_denv4_aligned_brazil.fasta.raxml.bootstraps', tree_format=5)\n",
    "\n",
    "brlen_ada_list = []\n",
    "ll_ada_list = []\n",
    "ada_time_phy_list = []\n",
    "\n",
    "lam = 1e-07\n",
    "beta = 0.5\n",
    "gamma_ada_penalized = 1.0\n",
    "gamma_phy_list = [150, 300, 450]\n",
    "\n",
    "for gamma_phy in gamma_phy_list:\n",
    "    bs_trees_copy = []\n",
    "    for tree in bs_trees:\n",
    "        tree_copy = deepcopy(tree)\n",
    "        pinf.tree.namenum(tree_copy, denv4_brazil_taxa)\n",
    "        brlen_ml_bs_denv4_brazil = pinf.branch.get(tree_copy)\n",
    "\n",
    "        brlen_init = np.copy(brlen_ml_bs_denv4_brazil)\n",
    "\n",
    "        start = clock()\n",
    "        brlen_ada_lasso, objval_ll_ada_lasso, objval_lasso_ada_lasso, n_zeros_ada_lasso, lam_tuned_ada_lasso = adaLasso(model_denv4_brazil, tree_copy, brlen_init, lam, gamma=gamma_phy, beta=beta, prox='l1', msteps=3, gamma_ada_penalized=gamma_ada_penalized, minstepsz=1e-09, sparsity_monitor=True)\n",
    "\n",
    "        brlen_ada_list.append(brlen_ada_lasso[-1])\n",
    "        ll_ada_list.append(objval_ll_ada_lasso[-1])\n",
    "        ada_time_phy_list.append(clock() - start)\n",
    "        pinf.branch.set(tree_copy, brlen_ada_lasso[-1])\n",
    "        pinf.tree.nametaxon(tree_copy, denv4_brazil_taxa)\n",
    "        bs_trees_copy.append(tree_copy)\n",
    "\n",
    "        print \"\\nlambda = {}; step size: {}; elasped time: {:.04f} seconds\".format(gamma_phy, lam_tuned_ada_lasso, ada_time_phy_list[-1])\n",
    "\n",
    "        plt.plot(objval_ll_ada_lasso, label=\"LL\")\n",
    "        plt.plot(objval_lasso_ada_lasso, label=\"LL+Penalty\")\n",
    "        plt.legend(loc=4)\n",
    "        plt.show()\n",
    "    \n",
    "    saveTree(bs_trees_copy, '../data/Dengue/dengue_denv4_aligned_brazil_gamma{}_10.fasta.raxml.bootstraps.adalasso'.format(gamma_phy))"
   ]
  },
  {
   "cell_type": "code",
   "execution_count": 17,
   "metadata": {},
   "outputs": [],
   "source": [
    "for gamma_phy in gamma_phy_list:\n",
    "    # transform to p4 compatible format\n",
    "    tree_list_bs_adalasso = dendropy.TreeList.get(path='../data/Dengue/dengue_denv4_aligned_brazil_gamma{}_10.fasta.raxml.bootstraps.adalasso'.format(gamma_phy), schema='newick', rooting=\"force-unrooted\")\n",
    "    addLabel(tree_list_bs_adalasso)\n",
    "    tree_list_bs_adalasso.write(path='../data/Dengue/dengue_denv4_aligned_brazil_gamma{}_10.fasta.raxml.bootstraps.adalasso.nexus'.format(gamma_phy), schema='nexus', suppress_taxa_blocks=True, translate_tree_taxa=True, unquoted_underscores=True)\n",
    "\n",
    "    var.trees = []\n",
    "    read('../data/Dengue/dengue_denv4_aligned_brazil_gamma{}_10.fasta.raxml.bootstraps.adalasso.nexus'.format(gamma_phy))\n",
    "    \n",
    "    # collapse zero branches\n",
    "    for tree in var.trees:\n",
    "        Collapse(tree, 0.0)\n",
    "    \n",
    "    ml_bs_adalasso_dict = splitSupport(var.trees, mcmc_consensus_dict, denv4_brazil_taxa, collapse_threshold=0.0, skip=0.0)\n",
    "    ml_bs_adalasso_split = np.array([[int(re.findall('\\d+',mcmc_consensus_dict[key].name)[0]), percent] for key, percent in sorted(ml_bs_adalasso_dict.items(), key=lambda x:x[0])])\n",
    "    ml_bs_adalasso_split = ml_bs_adalasso_split[ml_bs_adalasso_split[:,0].argsort()][:,1]\n",
    "    ml_bs_adalasso_split = ml_bs_adalasso_split.reshape((len(ml_bs_adalasso_split),1))\n",
    "    splitTable = np.concatenate((splitTable,ml_bs_adalasso_split), axis=1)"
   ]
  },
  {
   "cell_type": "code",
   "execution_count": null,
   "metadata": {
    "collapsed": true
   },
   "outputs": [],
   "source": [
    "# show split support Table\n",
    "splitTable"
   ]
  }
 ],
 "metadata": {
  "kernelspec": {
   "display_name": "Python 2",
   "language": "python",
   "name": "python2"
  },
  "language_info": {
   "codemirror_mode": {
    "name": "ipython",
    "version": 2
   },
   "file_extension": ".py",
   "mimetype": "text/x-python",
   "name": "python",
   "nbconvert_exporter": "python",
   "pygments_lexer": "ipython2",
   "version": "2.7.13"
  }
 },
 "nbformat": 4,
 "nbformat_minor": 2
}
