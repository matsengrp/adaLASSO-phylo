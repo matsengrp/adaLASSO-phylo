{
 "cells": [
  {
   "cell_type": "markdown",
   "metadata": {},
   "source": [
    "# Compare phylogenetic LASSO solvers on simulated data sets.\n",
    "\n",
    "Here, we compare the efficiency of two proximal gradient algorithms for solving the phylogenetic LASSO problem on simulated data sets. "
   ]
  },
  {
   "cell_type": "code",
   "execution_count": 1,
   "metadata": {
    "collapsed": true
   },
   "outputs": [],
   "source": [
    "%load_ext autoreload\n",
    "%autoreload 2\n",
    "%matplotlib inline"
   ]
  },
  {
   "cell_type": "code",
   "execution_count": 2,
   "metadata": {
    "collapsed": true
   },
   "outputs": [],
   "source": [
    "import sys\n",
    "sys.path.append('../')"
   ]
  },
  {
   "cell_type": "code",
   "execution_count": 4,
   "metadata": {
    "collapsed": true
   },
   "outputs": [],
   "source": [
    "import numpy as np\n",
    "import matplotlib.pyplot as plt\n",
    "import phyloinfer as pinf"
   ]
  },
  {
   "cell_type": "code",
   "execution_count": 5,
   "metadata": {
    "collapsed": true
   },
   "outputs": [],
   "source": [
    "import random\n",
    "from model import PHY\n",
    "from optimizer import ista, fista, raxml\n",
    "from utils import saveTree, readTree"
   ]
  },
  {
   "cell_type": "code",
   "execution_count": 12,
   "metadata": {
    "collapsed": true
   },
   "outputs": [],
   "source": [
    "# JC model\n",
    "pden = np.array([0.25, 0.25, 0.25, 0.25])\n",
    "D, U, U_inv, rate_matrix = pinf.rateM.decompJC()"
   ]
  },
  {
   "cell_type": "markdown",
   "metadata": {},
   "source": [
    "## simulation 1"
   ]
  },
  {
   "cell_type": "code",
   "execution_count": 290,
   "metadata": {
    "collapsed": true
   },
   "outputs": [],
   "source": [
    "random.seed(2017)\n",
    "np.random.seed(2017)\n",
    "\n",
    "# number of leaves\n",
    "ntips = 100\n",
    "\n",
    "# set branch lengths\n",
    "branch = 0.05 * np.ones(2*ntips-3)\n",
    "\n",
    "# randomly shrunking some branches\n",
    "shrunken_idx = random.sample(range(2*ntips-3), 50)\n",
    "branch[shrunken_idx] = 0.0\n",
    "\n",
    "# set up the unresolved topology\n",
    "sp_tree = pinf.tree.create(ntips, branch=branch)\n",
    "\n",
    "# generate data\n",
    "data_m1 = pinf.data.treeSimu(sp_tree, D, U, U_inv, pden, 1000)"
   ]
  },
  {
   "cell_type": "code",
   "execution_count": 291,
   "metadata": {
    "collapsed": true
   },
   "outputs": [],
   "source": [
    "# phylogenetic inference model\n",
    "model = PHY(pden, ('JC', 1.0), data_m1)"
   ]
  },
  {
   "cell_type": "code",
   "execution_count": 292,
   "metadata": {
    "collapsed": true
   },
   "outputs": [],
   "source": [
    "lam = 1e-06\n",
    "gamma = 1.0\n",
    "beta = 0.5\n",
    "wts = np.ones(2*ntips-3)\n",
    "\n",
    "# load the initial branch length\n",
    "brlen_init = np.load('../data/convergence/model1-br-init.npy')\n",
    "\n",
    "# load the optimal estimate from a long run of pFISTA\n",
    "optimal_m1 = np.load('../data/convergence/model1-optimal.npy')"
   ]
  },
  {
   "cell_type": "code",
   "execution_count": 293,
   "metadata": {
    "collapsed": true
   },
   "outputs": [],
   "source": [
    "# ISTA vs FISTA\n",
    "brlen_ista, objval_ll_ista, objval_penalized_ista, lam_ista = ista(model, sp_tree, brlen_init, lam, gamma, beta, wts, maxiter=1000, abstol=1e-16)\n",
    "brlen_fista, objval_ll_fista, objval_penalized_fista, lam_fista, niter_fista = fista(model, sp_tree, brlen_init, lam, gamma, beta, wts, maxiter=1000, abstol=1e-16, monitor=True)"
   ]
  },
  {
   "cell_type": "code",
   "execution_count": 294,
   "metadata": {},
   "outputs": [
    {
     "data": {
      "image/png": "[encoded data removed]",
      "text/plain": [
       "<matplotlib.figure.Figure at 0x11589c350>"
      ]
     },
     "metadata": {},
     "output_type": "display_data"
    }
   ],
   "source": [
    "# show the result\n",
    "fig = plt.figure(figsize=(6,6))\n",
    "ax = fig.add_subplot(111)\n",
    "ax.semilogy((optimal_m1-objval_penalized_ista)/abs(optimal_m1), label='pISTA')\n",
    "ax.semilogy((optimal_m1-objval_penalized_fista)/abs(optimal_m1), label='pFISTA')\n",
    "ax.set_xlabel('n',fontsize=18)\n",
    "ax.set_ylabel(r'$(f(q^{(n)})-f^\\ast)/|f^\\ast|$',fontsize=18)\n",
    "ax.set_xlim([0,1000])\n",
    "ax.set_ylim(bottom=1e-12)\n",
    "ax.tick_params(labelsize=12)\n",
    "ax.legend(loc=3, fontsize=12)\n",
    "\n",
    "plt.show()"
   ]
  },
  {
   "cell_type": "code",
   "execution_count": null,
   "metadata": {
    "collapsed": true
   },
   "outputs": [],
   "source": [
    "# detected zero branches for different penalty coefficients\n",
    "\n",
    "lam = 1e-06\n",
    "gamma_list = [1, 5, 10, 20, 40, 80, 160]\n",
    "beta = 0.5\n",
    "wts = np.ones(2*ntips-3)\n",
    "nzeros_list = []\n",
    "\n",
    "brlen_init = np.random.exponential(scale=0.1, size=2*ntips-3)\n",
    "\n",
    "for gamma in gamma_list:\n",
    "    brlen_fista, objval_ll_fista, objval_penalized_fista, lam_fista, niter_fista = fista(model, sp_tree, brlen_init, lam, gamma, beta, wts, maxiter=1000, minstepsz=5e-08)\n",
    "    nzeros_list.append(sum(brlen_fista==0.0))\n",
    "    \n",
    "    print \"gamma {}; step size {}; iteration {}; # zeros {}\".format(gamma, lam_fista, niter_fista, nzeros_list[-1])\n",
    "    plt.plot(objval_ll_fista, label='pFISTA')\n",
    "    plt.legend(loc='best', fontsize=15)\n",
    "    plt.show()"
   ]
  },
  {
   "cell_type": "markdown",
   "metadata": {},
   "source": [
    "## simulation 2"
   ]
  },
  {
   "cell_type": "code",
   "execution_count": 295,
   "metadata": {
    "collapsed": true
   },
   "outputs": [],
   "source": [
    "# load data\n",
    "sp_tree = readTree('../data/simulation/true_tree_100tips_final.newick', tree_format=3)[0]\n",
    "pinf.tree.init(sp_tree, name='interior')\n",
    "data_m2, _ = pinf.data.loadData('../data/simulation/simulated_100tips_final.fasta', data_type='fasta')\n",
    "\n",
    "# load the optimal estimate from a long run of pFISTA\n",
    "optimal_m2 = np.load('../data/convergence/model2-optimal.npy')"
   ]
  },
  {
   "cell_type": "code",
   "execution_count": 296,
   "metadata": {
    "collapsed": true
   },
   "outputs": [],
   "source": [
    "# phylogenetic inference model\n",
    "model = PHY(pden, ('JC', 1.0), data_m2)"
   ]
  },
  {
   "cell_type": "code",
   "execution_count": 297,
   "metadata": {
    "collapsed": true
   },
   "outputs": [],
   "source": [
    "lam = 1e-06\n",
    "gamma = 1\n",
    "beta = 0.5\n",
    "wts = np.ones(2*ntips-3)\n",
    "\n",
    "# initialize branch length\n",
    "np.random.seed(2017)\n",
    "brlen_init = np.random.exponential(scale=0.1, size=2*ntips-3)"
   ]
  },
  {
   "cell_type": "code",
   "execution_count": null,
   "metadata": {
    "collapsed": true
   },
   "outputs": [],
   "source": [
    "brlen_ista, objval_ll_ista, objval_penalized_ista, lam_ista = ista(model, sp_tree, brlen_init, lam, gamma, beta, wts, maxiter=1000, minstepsz=5e-08, abstol=1e-16)\n",
    "brlen_fista, objval_ll_fista, objval_penalized_fista, lam_fista, niter_fista = fista(model, sp_tree, brlen_init, lam, gamma, beta, wts, maxiter=1000, minstepsz=5e-08, abstol=1e-16, monitor=True)\n",
    "brlen_fista_partial_restart, objval_ll_fista_partial_restart, objval_penalized_fista_partial_restart, lam_fista_partial_restart, niter_fista_partial_restart = fista(model, sp_tree, brlen_init, lam, gamma, beta, wts, maxiter=1000, minstepsz=5e-08, abstol=1e-16, stepsz_restart=False, monitor=True)"
   ]
  },
  {
   "cell_type": "code",
   "execution_count": 299,
   "metadata": {},
   "outputs": [
    {
     "data": {
      "image/png": "[encoded data removed]",
      "text/plain": [
       "<matplotlib.figure.Figure at 0x1158859d0>"
      ]
     },
     "metadata": {},
     "output_type": "display_data"
    }
   ],
   "source": [
    "# show the result\n",
    "fig = plt.figure(figsize=(6,6))\n",
    "ax = fig.add_subplot(111)\n",
    "ax.semilogy((optimal_m2-objval_penalized_ista)/abs(optimal_m2), color='#1f77b4', label='pISTA')\n",
    "ax.semilogy((optimal_m2-objval_penalized_fista_partial_restart)/abs(optimal_m2), color='#2ca02c', label='pFISTA+restart(partial)')\n",
    "ax.semilogy((optimal_m2-objval_penalized_fista)/abs(optimal_m2), color='#ff7f0e',label='pFISTA+restart(full)')\n",
    "        \n",
    "ax.set_xlabel('n',fontsize=18)\n",
    "ax.set_ylabel(r'$(f(q^{(n)})-f^\\ast)/|f^\\ast|$',fontsize=18)\n",
    "ax.set_xlim([0,1000])\n",
    "ax.set_ylim(bottom=1e-12)\n",
    "ax.tick_params(labelsize=12)\n",
    "ax.legend(loc=3, fontsize=12)\n",
    "\n",
    "plt.show()"
   ]
  },
  {
   "cell_type": "code",
   "execution_count": null,
   "metadata": {
    "collapsed": true
   },
   "outputs": [],
   "source": [
    "# detected zero branches for different penalty coefficients\n",
    "\n",
    "lam = 1e-06\n",
    "gamma_list = [1, 5, 10, 20, 40, 80, 160]\n",
    "beta = 0.5\n",
    "wts = np.ones(2*ntips-3)\n",
    "nzeros_list = []\n",
    "\n",
    "brlen_init = np.random.exponential(scale=0.1, size=2*ntips-3)\n",
    "\n",
    "for gamma in gamma_list:\n",
    "    brlen_fista, objval_ll_fista, objval_penalized_fista, lam_fista, niter_fista = fista(model, sp_tree, brlen_init, lam, gamma, beta, wts, maxiter=2000, minstepsz=5e-08)\n",
    "    nzeros_list.append(sum(brlen_fista==0.0))\n",
    "    \n",
    "    print \"gamma {}; step size {}; iteration {}; # zeros {}\".format(gamma, lam_fista, niter_fista, nzeros_list[-1])\n",
    "    plt.plot(objval_ll_fista, label='pFISTA')\n",
    "    plt.legend(loc='best', fontsize=15)\n",
    "    plt.show()"
   ]
  }
 ],
 "metadata": {
  "kernelspec": {
   "display_name": "Python 2",
   "language": "python",
   "name": "python2"
  },
  "language_info": {
   "codemirror_mode": {
    "name": "ipython",
    "version": 2
   },
   "file_extension": ".py",
   "mimetype": "text/x-python",
   "name": "python",
   "nbconvert_exporter": "python",
   "pygments_lexer": "ipython2",
   "version": "2.7.13"
  }
 },
 "nbformat": 4,
 "nbformat_minor": 2
}
