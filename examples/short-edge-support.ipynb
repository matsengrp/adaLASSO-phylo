{
 "cells": [
  {
   "cell_type": "markdown",
   "metadata": {},
   "source": [
    "# Simulation on short-edge-support for adaLasso\n",
    "\n",
    "\n",
    "In what follows, we illustrate the performance of short edge detection of adaptive Lasso (multi-step) on simulated data sets"
   ]
  },
  {
   "cell_type": "code",
   "execution_count": 1,
   "metadata": {
    "collapsed": true
   },
   "outputs": [],
   "source": [
    "%load_ext autoreload\n",
    "%autoreload 2"
   ]
  },
  {
   "cell_type": "code",
   "execution_count": 2,
   "metadata": {
    "collapsed": true
   },
   "outputs": [],
   "source": [
    "import sys\n",
    "sys.path.append('../')"
   ]
  },
  {
   "cell_type": "code",
   "execution_count": 3,
   "metadata": {
    "collapsed": true
   },
   "outputs": [],
   "source": [
    "import numpy as np\n",
    "import phyloinfer as pinf\n",
    "import matplotlib.pyplot as plt\n",
    "%matplotlib inline\n",
    "import seaborn as sns\n",
    "from time import clock\n",
    "import pandas as pd\n",
    "import re\n",
    "from p4 import *"
   ]
  },
  {
   "cell_type": "code",
   "execution_count": 4,
   "metadata": {
    "collapsed": true
   },
   "outputs": [],
   "source": [
    "from model import PHY\n",
    "from optimizer import adaLasso, raxml\n",
    "from utils import readTree, readEdgeSupport, addLabel, maptaxonname, Collapse, splitSupport"
   ]
  },
  {
   "cell_type": "markdown",
   "metadata": {},
   "source": [
    "## Load the tree and set up the model"
   ]
  },
  {
   "cell_type": "code",
   "execution_count": 5,
   "metadata": {
    "collapsed": true
   },
   "outputs": [],
   "source": [
    "# load simulated tree\n",
    "true_tree = readTree('../data/simulation/true_tree_100tips_final.newick', tree_format=3)[0]\n",
    "pinf.tree.init(true_tree, name='interior')\n",
    "\n",
    "true_branch = pinf.branch.get(true_tree)\n",
    "short_idx = np.where(true_branch==0.002)[0]\n",
    "\n",
    "# Jukes-Canter evolutionary model\n",
    "pden = np.array([0.25, 0.25, 0.25, 0.25])\n",
    "D, U, U_inv, rate_matrix = pinf.rateM.decompJC()"
   ]
  },
  {
   "cell_type": "markdown",
   "metadata": {},
   "source": [
    "## Run multistep adaptive phylogenetic LASSO"
   ]
  },
  {
   "cell_type": "code",
   "execution_count": null,
   "metadata": {
    "collapsed": true
   },
   "outputs": [],
   "source": [
    "short_lens = [0.0, 0.002, 0.004, 0.006, 0.008, 0.010]\n",
    "\n",
    "lam = 1e-06\n",
    "beta = 0.5\n",
    "gamma_ada_penalized = 1.0\n",
    "gamma_phy = 50\n",
    "\n",
    "brlen_ada_list = []\n",
    "short_edge_prec_list = []\n",
    "\n",
    "output_file = \"../results/short_len_detection_gamma10.txt\"\n",
    "short_len_detection_file = open(output_file, 'w')\n",
    "\n",
    "\n",
    "nrep = 100\n",
    "for short_len in short_lens:\n",
    "    short_edge_prec = []\n",
    "    short_len_detection_file.write('short_len={:.3f}:\\t'.format(short_len))\n",
    "    for n in range(nrep):\n",
    "        true_branch[short_idx] = short_len\n",
    "        pinf.branch.set(true_tree, true_branch)\n",
    "        \n",
    "        data = pinf.data.treeSimu(true_tree, D, U, U_inv, pden, 1000)\n",
    "        model = PHY(pden, ('JC',1.0), data)\n",
    "        brlen_init = np.random.exponential(scale=0.1, size=2*model.ntips-3)\n",
    "        \n",
    "        start = clock()\n",
    "        brlen_ada_lasso, objval_ll_ada_lasso, objval_lasso_ada_lasso, n_zeros_ada_lasso, lam_tuned_ada_lasso = adaLasso(model, true_tree, brlen_init, lam, gamma=gamma_phy, beta=beta, prox='l1', msteps=3, gamma_ada_penalized=gamma_ada_penalized, sparsity_monitor=True)\n",
    "        \n",
    "        print \"\\nlambda = {}; step size = {}; elapsed time = {:.04f} second\".format(gamma_phy, lam_tuned_ada_lasso, clock()-start)\n",
    "        \n",
    "#         pdb.set_trace()\n",
    "        brlen_ada_list.append(brlen_ada_lasso[-1])\n",
    "        short_edge_prec.append(sum(brlen_ada_list[-1][short_idx]>0)/15.0)\n",
    "        \n",
    "        short_len_detection_file.write('{:.2f}\\t'.format(short_edge_prec[-1]))\n",
    "        short_len_detection_file.flush()\n",
    "                \n",
    "        plt.plot(objval_ll_ada_lasso, label=\"LL\")\n",
    "        plt.plot(objval_lasso_ada_lasso, label=\"LL+Penalty\")\n",
    "        plt.legend(loc=4, fontsize=15)\n",
    "        plt.show()\n",
    "    \n",
    "    short_edge_prec_list.append(short_edge_prec)\n",
    "    short_len_detection_file.write('\\n') \n",
    "\n",
    "short_len_detection_file.close()"
   ]
  },
  {
   "cell_type": "markdown",
   "metadata": {},
   "source": [
    "## Run rjMCMC in p4"
   ]
  },
  {
   "cell_type": "code",
   "execution_count": null,
   "metadata": {
    "collapsed": true
   },
   "outputs": [],
   "source": [
    "def rjmcmc(init_tree_seq, data_seq, sampleInterval, checkPointInterval, nIter):\n",
    "    read(init_tree_seq)\n",
    "    init_tree = var.trees.pop()\n",
    "    read(data_seq)\n",
    "    \n",
    "    data = Data()\n",
    "    taxa = data.taxNames\n",
    "    init_tree.data = data\n",
    "    \n",
    "    init_tree.newComp(free=0, spec='equal')\n",
    "    init_tree.newRMatrix(free=0, spec='ones')\n",
    "    init_tree.setNGammaCat(nGammaCat=1)\n",
    "    init_tree.setPInvar(free=0, val=0.0)\n",
    "    \n",
    "    m = Mcmc(init_tree, nChains=4, runNum=0, sampleInterval=sampleInterval, checkPointInterval=checkPointInterval)\n",
    "    m.prob.polytomy = 1.0\n",
    "    m.prob.brLen = 0.1\n",
    "    m.prob.local = 0.3\n",
    "    m.prob.eTBR = 0.3\n",
    "    m.tunings.chainTemp = 0.0\n",
    "\n",
    "    m.run(nIter)\n",
    "    var.alignments.pop()"
   ]
  },
  {
   "cell_type": "code",
   "execution_count": null,
   "metadata": {
    "collapsed": true
   },
   "outputs": [],
   "source": [
    "taxon_names = ['A{}'.format(i) for i in range(100)]\n",
    "read('../data/simulation/true_tree_100tips_final_renamed.newick')\n",
    "target_tree = var.trees.pop()\n",
    "\n",
    "target_tree.taxNames = taxon_names\n",
    "short_branch_dict = {}\n",
    "target_tree.makeSplitKeys()\n",
    "for n in target_tree.iterInternalsNoRoot():\n",
    "    if n.br.len == 0.002:\n",
    "        short_branch_dict[n.br.splitKey] = n\n",
    "        \n",
    "\n",
    "short_lens = [0.0, 0.002, 0.004, 0.006, 0.008, 0.010]\n",
    "\n",
    "short_edge_prec_rjmcmc_list = []\n",
    "\n",
    "output_file = \"../results/short_len_detection_rjmcmc.txt\"\n",
    "init_tree_seq = '../data/simulation/init_tree_100tips_final_renamed.newick'\n",
    "simu_data_seq = \"../data/simulation/simu_data.fasta\"\n",
    "short_len_detection_file = open(output_file, 'w')\n",
    "\n",
    "\n",
    "nrep = 100\n",
    "for short_len in short_lens:\n",
    "    short_edge_prec_rjmcmc = []\n",
    "    short_len_detection_file.write('short_len={:.3f}:\\t'.format(short_len))\n",
    "    for n in range(nrep):\n",
    "        true_branch[short_idx] = short_len\n",
    "        pinf.branch.set(true_tree, true_branch)\n",
    "        \n",
    "        data = pinf.data.treeSimu(true_tree, D, U, U_inv, pden, 1000)\n",
    "        pinf.data.saveData(data, taxon_names, simu_data_seq, 'fasta')\n",
    "        \n",
    "        var.trees, var.alignments = [], []\n",
    "        ! rm mcmc_checkPoint*\n",
    "        rjmcmc(init_tree_seq, simu_data_seq, 50, 2500, 10000)\n",
    "        \n",
    "        read('mcmc_trees_0.nex')\n",
    "        rjmcmc_split = splitSupport(var.trees, short_branch_dict, taxon_names, collapse_threshold = 0.0, skip=0.2)\n",
    "        short_edge_prec_rjmcmc.append(sum(rjmcmc_split.values())*1.0/(100*len(rjmcmc_split.values())))\n",
    "        \n",
    "        short_len_detection_file.write('{:.2f}\\t'.format(short_edge_prec_rjmcmc[-1]))\n",
    "        short_len_detection_file.flush()        \n",
    "    \n",
    "    short_edge_prec_rjmcmc_list.append(short_edge_prec_rjmcmc)\n",
    "    short_len_detection_file.write('\\n') \n",
    "\n",
    "short_len_detection_file.close()"
   ]
  },
  {
   "cell_type": "markdown",
   "metadata": {},
   "source": [
    "## Result analysis"
   ]
  },
  {
   "cell_type": "code",
   "execution_count": 6,
   "metadata": {
    "collapsed": true
   },
   "outputs": [],
   "source": [
    "short_edge_prec_list = readEdgeSupport('../results/short_len_detection_gamma10.txt')\n",
    "df = pd.DataFrame(short_edge_prec_list, columns=['0.000', '0.002', '0.004', '0.006', '0.008','0.010'])\n",
    "df['method'] = ['adaLASSO']*100"
   ]
  },
  {
   "cell_type": "code",
   "execution_count": 7,
   "metadata": {
    "collapsed": true
   },
   "outputs": [],
   "source": [
    "short_edge_prec_rjmcmc_list = readEdgeSupport('../results/short_len_detection_rjmcmc.txt')\n",
    "df_rjmcmc = pd.DataFrame(short_edge_prec_rjmcmc_list)\n",
    "df_rjmcmc['method'] = ['rjMCMC']*100\n",
    "df = pd.concat([df, df_rjmcmc])"
   ]
  },
  {
   "cell_type": "code",
   "execution_count": 8,
   "metadata": {
    "collapsed": true
   },
   "outputs": [],
   "source": [
    "# merge the results\n",
    "df_melt = pd.melt(df, id_vars=['method'], value_vars=['0.000', '0.002', '0.004', '0.006', '0.008', '0.010'], var_name='branch length', value_name='detection probability')"
   ]
  },
  {
   "cell_type": "code",
   "execution_count": 9,
   "metadata": {
    "collapsed": true
   },
   "outputs": [],
   "source": [
    "# set plot color and style\n",
    "current_palette = ['#ff7f0e','#1f77b4','#2ca02c','#d62728','#9467bd','#8c564b','#e377c2','#7f7f7f','#bcbd22','#17becf']\n",
    "sns.set_style(\"white\")"
   ]
  },
  {
   "cell_type": "code",
   "execution_count": 10,
   "metadata": {},
   "outputs": [
    {
     "data": {
      "image/png": "[encoded data removed]",
      "text/plain": [
       "<matplotlib.figure.Figure at 0x113f84090>"
      ]
     },
     "metadata": {},
     "output_type": "display_data"
    }
   ],
   "source": [
    "fig, ax = plt.subplots(figsize=(10,8))\n",
    "sns.boxplot(x='branch length',y='detection probability',hue='method',data=df_melt,palette=current_palette, ax=ax)\n",
    "ax.legend(fontsize=18)\n",
    "ax.set_xlabel('branch length',fontsize=18)\n",
    "ax.set_ylabel('detection probability',fontsize=18)\n",
    "ax.tick_params(labelsize=14,length=3)\n",
    "plt.show()"
   ]
  }
 ],
 "metadata": {
  "kernelspec": {
   "display_name": "Python 2",
   "language": "python",
   "name": "python2"
  },
  "language_info": {
   "codemirror_mode": {
    "name": "ipython",
    "version": 2
   },
   "file_extension": ".py",
   "mimetype": "text/x-python",
   "name": "python",
   "nbconvert_exporter": "python",
   "pygments_lexer": "ipython2",
   "version": "2.7.13"
  }
 },
 "nbformat": 4,
 "nbformat_minor": 2
}
