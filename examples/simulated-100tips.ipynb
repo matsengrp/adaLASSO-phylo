{
 "cells": [
  {
   "cell_type": "markdown",
   "metadata": {},
   "source": [
    "# Experiment on a simulated data set with 100 taxa\n",
    "\n",
    "\n",
    "In what follows, we demonstrate the efficiency of adaptive (multistep) LASSO at recovering sparsity on a fixed phylogenetic tree topology. To reduce parameterization, we use JC model for evolution. "
   ]
  },
  {
   "cell_type": "code",
   "execution_count": 1,
   "metadata": {
    "collapsed": true
   },
   "outputs": [],
   "source": [
    "%load_ext autoreload\n",
    "%autoreload 2"
   ]
  },
  {
   "cell_type": "code",
   "execution_count": 2,
   "metadata": {
    "collapsed": true
   },
   "outputs": [],
   "source": [
    "import sys\n",
    "sys.path.append('../')"
   ]
  },
  {
   "cell_type": "code",
   "execution_count": 3,
   "metadata": {
    "collapsed": true
   },
   "outputs": [],
   "source": [
    "import numpy as np\n",
    "import phyloinfer as pinf\n",
    "import matplotlib.pyplot as plt\n",
    "from time import clock\n",
    "import pandas as pd\n",
    "import random\n",
    "%matplotlib inline"
   ]
  },
  {
   "cell_type": "code",
   "execution_count": 4,
   "metadata": {
    "collapsed": true
   },
   "outputs": [],
   "source": [
    "from model import PHY\n",
    "from optimizer import fista, adaLasso, raxml\n",
    "from utils import readTree, detection"
   ]
  },
  {
   "cell_type": "code",
   "execution_count": 5,
   "metadata": {
    "collapsed": true
   },
   "outputs": [],
   "source": [
    "# load data\n",
    "true_tree = readTree('../data/simulation/true_tree_100tips_final.newick', tree_format=3)[0]\n",
    "pinf.tree.init(true_tree, name='interior')\n",
    "data, taxa = pinf.data.loadData('../data/simulation/simulated_100tips_final.fasta', data_type='fasta')"
   ]
  },
  {
   "cell_type": "code",
   "execution_count": 6,
   "metadata": {
    "collapsed": true
   },
   "outputs": [],
   "source": [
    "true_branch = pinf.branch.get(true_tree)\n",
    "shrunken_idx = np.where(true_branch==0)[0]"
   ]
  },
  {
   "cell_type": "markdown",
   "metadata": {},
   "source": [
    "## Set up the model. "
   ]
  },
  {
   "cell_type": "code",
   "execution_count": 7,
   "metadata": {
    "collapsed": true
   },
   "outputs": [],
   "source": [
    "pden = np.array([0.25, 0.25, 0.25, 0.25])\n",
    "D, U, U_inv, rate_matrix = pinf.rateM.decompJC()\n",
    "\n",
    "model = PHY(pden, ('JC',1.0), data)"
   ]
  },
  {
   "cell_type": "markdown",
   "metadata": {},
   "source": [
    "## Run adaptive LASSO"
   ]
  },
  {
   "cell_type": "code",
   "execution_count": null,
   "metadata": {
    "collapsed": true
   },
   "outputs": [],
   "source": [
    "# set up some hyperparameters\n",
    "lam = 1e-06\n",
    "beta = 0.5\n",
    "gamma_ada_penalized = 1.0\n",
    "wts = np.ones(2*model.ntips-3)\n",
    "\n",
    "gamma_phy_list = [0, 10, 20, 30, 40, 50]\n",
    "brlen_ada_list = []\n",
    "p_ada_list = []\n",
    "ada_time_phy_list = []\n",
    "n_zeros_ada_list = []\n",
    "\n",
    "# set random starting branch lengths\n",
    "brlen_init= np.random.exponential(scale=0.1, size=2*model.ntips-3)\n",
    "\n",
    "for gamma_phy in gamma_phy_list:\n",
    "    start = clock()\n",
    "    brlen_ada_lasso, objval_ll_ada_lasso, objval_lasso_ada_lasso, n_zeros_ada_lasso, lam_tuned_ada_lasso = adaLasso(model, true_tree, brlen_init, lam, gamma=gamma_phy, beta=beta, prox='l1', msteps=4, gamma_ada_penalized=gamma_ada_penalized, sparsity_monitor=True)\n",
    "    \n",
    "    brlen_ada_list.append(brlen_ada_lasso)\n",
    "    p_ada_list.append(objval_lasso_ada_lasso[-1])\n",
    "    ada_time_phy_list.append(clock() - start)\n",
    "    n_zeros_ada_list.append(n_zeros_ada_lasso)\n",
    "    \n",
    "    print \"\\nlambda = {}; step size: {}; elasped time: {:.04f} second\".format(gamma_phy, lam_tuned_ada_lasso, ada_time_phy_list[-1])\n",
    "    \n",
    "    plt.plot(objval_ll_ada_lasso, label=\"LL\")\n",
    "    plt.plot(objval_lasso_ada_lasso, label=\"LL+Penalty\")\n",
    "    plt.legend(loc=4)\n",
    "    plt.show()"
   ]
  },
  {
   "cell_type": "markdown",
   "metadata": {},
   "source": [
    "## Result Analysis"
   ]
  },
  {
   "cell_type": "code",
   "execution_count": 9,
   "metadata": {
    "collapsed": true
   },
   "outputs": [],
   "source": [
    "brlen_ada_list_transpose = zip(*brlen_ada_list)"
   ]
  },
  {
   "cell_type": "code",
   "execution_count": null,
   "metadata": {
    "collapsed": true
   },
   "outputs": [],
   "source": [
    "# miss detection and false alarm for adaLasso and threshold\n",
    "res = np.empty((5*4,7))\n",
    "for i, brlen_ada_cycle in enumerate(brlen_ada_list_transpose):\n",
    "    print \"cycle: {}\\n\".format(i+1)\n",
    "    for j, brlen_ada in enumerate(brlen_ada_cycle[1:6]):\n",
    "        miss_zeros, false_alarm = detection(shrunken_idx, brlen_ada)\n",
    "        res[j+5*i,:4] = [miss_zeros, false_alarm, gamma_phy_list[j+1], i+1]\n",
    "        print \"lambda: {}; # miss: {}; # false alarm: {}\".format(gamma_phy_list[j+1], miss_zeros, false_alarm)    \n",
    "    print \"\"\n",
    "    \n",
    "print '------------------------------------------------'\n",
    "\n",
    "\n",
    "brlen_orginal = brlen_ada_list[0][-1]\n",
    "thresholds = sorted([brlen for brlen in brlen_orginal if brlen < 0.01 and brlen > 0.0])\n",
    "thr_nbin = 6\n",
    "thresholds_quant = np.percentile(thresholds, q=np.linspace(0,100,thr_nbin))\n",
    "for j, quant in enumerate(thresholds_quant[1:6]):\n",
    "    brlen_threshold = np.copy(brlen_orginal)\n",
    "    brlen_threshold[brlen_threshold<quant] = 0.0\n",
    "    miss_zeros, false_alarm = detection(shrunken_idx, brlen_threshold)\n",
    "    for i in range(4):\n",
    "        res[j+5*i,4:] = [miss_zeros, false_alarm, quant]\n",
    "    print \"threshold: {:.04f}; # miss: {}; # false alarm {}\".format(quant, miss_zeros, false_alarm)"
   ]
  },
  {
   "cell_type": "code",
   "execution_count": 11,
   "metadata": {
    "collapsed": true
   },
   "outputs": [],
   "source": [
    "df = pd.DataFrame(res, columns=['miss_lasso', 'false_lasso', 'lambda', 'cycle', 'miss_detection', 'false_alarm', 'threshold'])"
   ]
  },
  {
   "cell_type": "code",
   "execution_count": 12,
   "metadata": {
    "collapsed": true
   },
   "outputs": [],
   "source": [
    "red_color_bar = ['#fdcab5', '#fc8a6a', '#f14432', '#bc141a']\n",
    "colors = {i+1.0:color for i, color in enumerate(red_color_bar)}\n",
    "grouped = df.groupby('cycle')"
   ]
  },
  {
   "cell_type": "code",
   "execution_count": null,
   "metadata": {
    "collapsed": true
   },
   "outputs": [],
   "source": [
    "# miss detection vs false alarm\n",
    "\n",
    "fig = plt.figure(figsize=(8,8))\n",
    "ax = fig.add_subplot(111)\n",
    "df.plot.scatter(x='miss_detection', y='false_alarm', color='blue', marker='s', s=40, label=\"thresholding\", ax=ax)\n",
    "for name, group in grouped:\n",
    "    group.plot.scatter(x='miss_lasso', y='false_lasso', color=colors[name], marker='*', s=100, label=\"adaLASSO, cycle {}\".format(int(name)), ax=ax)\n",
    "ax.legend(loc='best', fontsize=16)\n",
    "ax.set_xlabel('miss detection', fontsize=18)\n",
    "ax.set_ylabel('false alarm', fontsize=18)\n",
    "ax.xaxis.set_tick_params(labelsize=14)\n",
    "ax.yaxis.set_tick_params(labelsize=14)\n",
    "ax.set_ylim(bottom=-1, top=15)\n",
    "\n",
    "plt.show()"
   ]
  },
  {
   "cell_type": "code",
   "execution_count": null,
   "metadata": {
    "collapsed": true
   },
   "outputs": [],
   "source": [
    "# identified zero branches for multistep adaptive phylogenetic LASSO of different cycles.\n",
    "\n",
    "fig = plt.figure(figsize=(8,8))\n",
    "ax = fig.add_subplot(111)\n",
    "for i in range(1,6):\n",
    "    n_zeros_ada = n_zeros_ada_list[i]\n",
    "    ax.plot(range(1,5), n_zeros_ada, '^--', markersize=10,label=r'$\\lambda={}$'.format(gamma_phy_list[i]),alpha=0.5)\n",
    "\n",
    "ax.set_xlabel('cycles', fontsize=18)\n",
    "ax.set_ylabel('# zero branches', fontsize=18)\n",
    "ax.xaxis.set_tick_params(labelsize=14)\n",
    "ax.xaxis.set_ticks([1,2,3,4])\n",
    "ax.xaxis.set_ticklabels([1,2,3,4])\n",
    "ax.yaxis.set_tick_params(labelsize=14)\n",
    "ax.legend(loc='best', fontsize=16)\n",
    "\n",
    "plt.show()"
   ]
  }
 ],
 "metadata": {
  "kernelspec": {
   "display_name": "Python 2",
   "language": "python",
   "name": "python2"
  },
  "language_info": {
   "codemirror_mode": {
    "name": "ipython",
    "version": 2
   },
   "file_extension": ".py",
   "mimetype": "text/x-python",
   "name": "python",
   "nbconvert_exporter": "python",
   "pygments_lexer": "ipython2",
   "version": "2.7.13"
  }
 },
 "nbformat": 4,
 "nbformat_minor": 2
}
